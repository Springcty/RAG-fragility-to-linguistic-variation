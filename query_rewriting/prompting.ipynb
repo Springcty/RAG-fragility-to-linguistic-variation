{
 "cells": [
  {
   "cell_type": "markdown",
   "metadata": {},
   "source": [
    "# Load 10 test datapoints"
   ]
  },
  {
   "cell_type": "code",
   "execution_count": 29,
   "metadata": {},
   "outputs": [
    {
     "data": {
      "text/plain": [
       "[{'question': 'Who was the director of The Boys?',\n",
       "  's_pop': 148,\n",
       "  'o_pop': 155,\n",
       "  'id': 5913920,\n",
       "  'roberta_formality_score': 0.9866698384,\n",
       "  'concreteness_score': 1.91,\n",
       "  'linguistic_formality_score': 68.75,\n",
       "  'readability': 90.9585714286,\n",
       "  's_pop_bin': 0,\n",
       "  'answers': ['Mikko Niskanen', 'Mikko Johannes Niskanen']},\n",
       " {'question': 'Who was the director of Mother and Child?',\n",
       "  's_pop': 59,\n",
       "  'o_pop': 404,\n",
       "  'id': 1153613,\n",
       "  'roberta_formality_score': 0.9929551482,\n",
       "  'concreteness_score': 3.7775,\n",
       "  'linguistic_formality_score': 66.6666666667,\n",
       "  'readability': 82.39,\n",
       "  's_pop_bin': 0,\n",
       "  'answers': ['Hans Steinhoff']}]"
      ]
     },
     "execution_count": 29,
     "metadata": {},
     "output_type": "execute_result"
    }
   ],
   "source": [
    "# Load test data\n",
    "import json\n",
    "data_path = '/data/user_data/tianyuca/QL_dataset/popqa/readability/original_queries.jsonl'\n",
    "with open(data_path, 'r') as f:\n",
    "    data = [json.loads(line) for line in f]\n",
    "data[:2]"
   ]
  },
  {
   "cell_type": "code",
   "execution_count": 30,
   "metadata": {},
   "outputs": [
    {
     "data": {
      "text/plain": [
       "['Who was the director of The Boys?',\n",
       " 'Who was the director of Mother and Child?',\n",
       " 'Who is the author of Branches?',\n",
       " 'Who was the composer of Trans?',\n",
       " 'Who was the director of The Chicken?',\n",
       " 'What is the religion of Bernard William Schmitt?',\n",
       " 'In what country is Springwood High School?',\n",
       " 'What genre is Operation Sabotage?',\n",
       " \"What is Henk Bleker's occupation?\",\n",
       " \"What is Andreas Rüdiger's occupation?\"]"
      ]
     },
     "execution_count": 30,
     "metadata": {},
     "output_type": "execute_result"
    }
   ],
   "source": [
    "random_samples = data[:10]\n",
    "questions = [d['question'] for d in random_samples]\n",
    "# original_scores = [d['readability'] for d in random_samples]\n",
    "# original_scores = [d['roberta_formality_score'] for d in random_samples]\n",
    "questions"
   ]
  },
  {
   "cell_type": "markdown",
   "metadata": {},
   "source": [
    "# Llama-3.1-8B-Instruct Prompting"
   ]
  },
  {
   "cell_type": "code",
   "execution_count": 61,
   "metadata": {},
   "outputs": [],
   "source": [
    "read_prompt_prefix_list = [\n",
    "    'You are a query rewriting assistant. Your task is to transform the following query into a version with reduced readability. Use techniques such as increasing lexical complexity, introducing syntactic intricacy, and embedding semantic ambiguity, all while keeping the original meaning intact. Just do the query rewriting, DO NOT answer it.',\n",
    "    'As an AI language model specialized in rewriting queries, convert the provided query into one that is less readable. Employ advanced vocabulary and complex sentence structures to obscure the clarity of the text, but ensure that the semantic content remains unchanged. Just do the query rewriting, DO NOT answer it.',\n",
    "    'Your role is to rewrite the following query to lower its readability. Apply linguistic techniques such as intricate syntactic constructions, elevated diction, and nuanced semantic ambiguity. The final result should convey the same meaning as the original query despite its increased complexity. Just do the query rewriting, DO NOT answer it.',\n",
    "    'Transform the given query into a version that is more difficult to read. Use high-level vocabulary, elaborate grammatical structures, and ambiguous phrasing where appropriate. It is essential that the underlying meaning of the query is preserved. Just do the query rewriting, DO NOT answer it.',\n",
    "    'You are tasked with converting the following query into a less accessible version by increasing its lexical and syntactic complexity. Introduce elements of semantic ambiguity without altering the query’s original meaning. Provide the transformed query as your final output. Just do the query rewriting, DO NOT answer it.',\n",
    "    'Rewrite the following query into one that is intentionally less readable. Enhance the complexity by incorporating advanced vocabulary, multifaceted sentence structures, and ambiguous phrasing, ensuring that the core meaning of the query remains the same. Just do the query rewriting, DO NOT answer it.',\n",
    "]\n",
    "\n",
    "formal_prompt_prefix_list = [\n",
    "    \"You are a query rewriting assistant. Your task is to transform the following query into a very informal and casual version. Use conversational tone, filler words, slang, idioms, and even occasional misspellings to give it a relaxed feel, but keep the meaning intact. Just do the query rewriting, DO NOT answer it.\",\n",
    "    \"As an AI language model skilled in rephrasing, convert the provided query into one that's super casual and informal. Change the tone to be conversational, add some slang or idiomatic expressions, and feel free to include informal touches like typos or filler words, all while preserving the original meaning. Just do the query rewriting, DO NOT answer it.\",\n",
    "    \"Convert the following query into an informal version using diverse and creative casual language. Do not stick to a repetitive template; instead, try different styles such as starting with a casual remark, inserting slang mid-sentence, or even reordering sentence elements. Use a mix of everyday speech and informal idioms while ensuring the original meaning is maintained. Just do the query rewriting, DO NOT answer it.\",\n",
    "    \"You are an AI assistant skilled at transforming formal queries into casual, everyday language. Rewrite the following query so that it sounds very informal. Experiment with different colloquial openings, varied sentence constructions, and a mix of slang, idioms, and casual expressions throughout the sentence. Avoid using the same phrase repeatedly (e.g., \\\"hey, so like\\\") and ensure the meaning remains unchanged. Just do the query rewriting, DO NOT answer it.\",\n",
    "    \"Your task is to convert the given query into an informal version that feels natural and conversational. Instead of a uniform introductory phrase, use a range of informal expressions (such as interjections, casual questions, or slang) at different parts of the sentence. Mix up the structure—sometimes start with an interjection, other times rephrase the sentence completely—while keeping the original meaning intact. Just do the query rewriting, DO NOT answer it.\",\n",
    "    \"Rewrite the provided query in an informal and relaxed style. Avoid a one-size-fits-all beginning like “hey, so like.” Instead, choose from a broad range of casual language features—interjections, slang, filler words, varied sentence ordering, or even playful misspellings when appropriate. The output should be informal and varied, yet fully retain the semantic meaning of the original query. Just do the query rewriting, DO NOT answer it.\",\n",
    "]\n",
    "\n",
    "polite_prompt_prefix_list = [\n",
    "    'You are a skilled query rewriter. Transform the provided query into a polite variant. Experiment with diverse linguistic techniques—use courteous phrases, indirect requests, varied greetings, and subtle expressions of gratitude. The result should be both respectful and maintaining the original intent of the query. Just do the query rewriting, DO NOT answer it.',\n",
    "    'As an AI with advanced linguistic capabilities, rewrite the following query to be more polite. Make sure to integrate natural expressions of courtesy, such as gentle requests or softeners, that make the query sound more respectful and friendly. Avoid using the same phrases repeatedly by varying your sentence structures and word choices. Just do the query rewriting, DO NOT answer it.',\n",
    "    'You are tasked with rewriting the following query into a polite version. Examples of techniques includes using courteous phrases, considerate text, respect and good manners, and friendly tone. Vary your approach by using different sentence constructions, varying the placement of polite expressions. The result should be both respectful and maintaining the original intent of the query. Just do the query rewriting, DO NOT answer it.',\n",
    "    'Your role is to transform the provided query into a more polite and courteous version. Utilize your linguistic skills to rephrase the query with friendly and respectful language, ensuring that the original intent and meaning are fully preserved. Just do the query rewriting, DO NOT answer it.',\n",
    "    'Your task is to convert the given query into a polite, respectful version. This time, aim for diversity by using multiple sentence structures and alternative polite expressions. For example, vary your use of greetings, requests, or acknowledgments, and avoid a one-size-fits-all template. The final version should sound natural, courteous, and maintain the original intent of the query. Just do the query rewriting, DO NOT answer it.',\n",
    "    'You are a query rewriting assistant tasked with transforming the given query into a polite version. Examples of techniques includes using courteous phrases, considerate text, respect and good manners, and friendly tone. Experiment with diverse vocabulary, sentence lengths, and formats (such as questions, statements, or even multi-sentence versions) to express politeness. The resulting query should remain respectful and true to the original meaning. Just do the query rewriting, DO NOT answer it.',\n",
    "]"
   ]
  },
  {
   "cell_type": "markdown",
   "metadata": {},
   "source": [
    "# gpt-4o-mini prompting"
   ]
  },
  {
   "cell_type": "code",
   "execution_count": null,
   "metadata": {},
   "outputs": [],
   "source": [
    "read_prompt_prefix_list = [\n",
    "    'You are a query rewriting assistant. Your task is to transform the following query into a version with reduced readability. Use techniques such as increasing lexical complexity, introducing syntactic intricacy, and embedding semantic ambiguity, all while keeping the original meaning intact.',\n",
    "    'As an AI language model specialized in rewriting queries, convert the provided query into one that is less readable. Employ advanced vocabulary and complex sentence structures to obscure the clarity of the text, but ensure that the semantic content remains unchanged.',\n",
    "    'Your role is to rewrite the following query to lower its readability. Apply linguistic techniques such as intricate syntactic constructions, elevated diction, and nuanced semantic ambiguity. The final result should convey the same meaning as the original query despite its increased complexity.',\n",
    "    'Transform the given query into a version that is more difficult to read. Use high-level vocabulary, elaborate grammatical structures, and ambiguous phrasing where appropriate. It is essential that the underlying meaning of the query is preserved.',\n",
    "    'You are tasked with converting the following query into a less accessible version by increasing its lexical and syntactic complexity. Introduce elements of semantic ambiguity without altering the query’s original meaning. Provide the transformed query as your final output.',\n",
    "    'Rewrite the following query into one that is intentionally less readable. Enhance the complexity by incorporating advanced vocabulary, multifaceted sentence structures, and ambiguous phrasing, ensuring that the core meaning of the query remains the same.',\n",
    "]\n",
    "\n",
    "formal_prompt_prefix_list = [\n",
    "    \"You are a query rewriting assistant. Your task is to transform the following query into a very informal and casual version. Use conversational tone, filler words, slang, idioms, and even occasional misspellings to give it a relaxed feel, but keep the meaning intact.\",\n",
    "    \"As an AI language model skilled in rephrasing, convert the provided query into one that's super casual and informal. Change the tone to be conversational, add some slang or idiomatic expressions, and feel free to include informal touches like typos or filler words, all while preserving the original meaning.\",\n",
    "    \"Convert the following query into an informal version using diverse and creative casual language. Do not stick to a repetitive template; instead, try different styles such as starting with a casual remark, inserting slang mid-sentence, or even reordering sentence elements. Use a mix of everyday speech and informal idioms while ensuring the original meaning is maintained.\",\n",
    "    \"You are an AI assistant skilled at transforming formal queries into casual, everyday language. Rewrite the following query so that it sounds very informal. Experiment with different colloquial openings, varied sentence constructions, and a mix of slang, idioms, and casual expressions throughout the sentence. Avoid using the same phrase repeatedly (e.g., \\\"hey, so like\\\") and ensure the meaning remains unchanged.\",\n",
    "    \"Your task is to convert the given query into an informal version that feels natural and conversational. Instead of a uniform introductory phrase, use a range of informal expressions (such as interjections, casual questions, or slang) at different parts of the sentence. Mix up the structure—sometimes start with an interjection, other times rephrase the sentence completely—while keeping the original meaning intact.\",\n",
    "    \"Rewrite the provided query in an informal and relaxed style. Avoid a one-size-fits-all beginning like “hey, so like.” Instead, choose from a broad range of casual language features—interjections, slang, filler words, varied sentence ordering, or even playful misspellings when appropriate. The output should be informal and varied, yet fully retain the semantic meaning of the original query.\",\n",
    "]\n",
    "\n",
    "polite_prompt_prefix_list = [\n",
    "    'You are a skilled query rewriter. Transform the provided query into a polite variant. Experiment with diverse linguistic techniques—use courteous phrases, indirect requests, varied greetings, and subtle expressions of gratitude. The result should be both respectful and maintaining the original intent of the query.',\n",
    "    'As an AI with advanced linguistic capabilities, rewrite the following query to be more polite. Make sure to integrate natural expressions of courtesy, such as gentle requests or softeners, that make the query sound more respectful and friendly. Avoid using the same phrases repeatedly by varying your sentence structures and word choices.',\n",
    "    'You are tasked with rewriting the following query into a polite version. Examples of techniques includes using courteous phrases, considerate text, respect and good manners, and friendly tone. Vary your approach by using different sentence constructions, varying the placement of polite expressions. The result should be both respectful and maintaining the original intent of the query.',\n",
    "    'Your role is to transform the provided query into a more polite and courteous version. Utilize your linguistic skills to rephrase the query with friendly and respectful language, ensuring that the original intent and meaning are fully preserved.',\n",
    "    'Your task is to convert the given query into a polite, respectful version. This time, aim for diversity by using multiple sentence structures and alternative polite expressions. For example, vary your use of greetings, requests, or acknowledgments, and avoid a one-size-fits-all template. The final version should sound natural, courteous, and maintain the original intent of the query.',\n",
    "    'You are a query rewriting assistant tasked with transforming the given query into a polite version. Examples of techniques includes using courteous phrases, considerate text, respect and good manners, and friendly tone. Experiment with diverse vocabulary, sentence lengths, and formats (such as questions, statements, or even multi-sentence versions) to express politeness. The resulting query should remain respectful and true to the original meaning.',\n",
    "]"
   ]
  },
  {
   "cell_type": "markdown",
   "metadata": {},
   "source": [
    "# For each query, randomly select a prompt prefix"
   ]
  },
  {
   "cell_type": "code",
   "execution_count": null,
   "metadata": {},
   "outputs": [],
   "source": [
    "import random\n",
    "\n",
    "# Set a specific seed value for reproducibility\n",
    "seed_value = 42\n",
    "random.seed(seed_value)\n",
    "\n",
    "# prompts = [(random.choice(read_prompt_prefix_list), 'Original Query: ' + query + '\\nQuery with Low Readability: ') for query in questions]\n",
    "# prompts = [(random.choice(formal_prompt_prefix_list), 'Original Query: ' + query + '\\nInformal Query: ') for query in questions]\n",
    "prompts = [(random.choice(polite_prompt_prefix_list), 'Original Query: ' + query + '\\nPolite Query: ') for query in questions]\n",
    "prompts"
   ]
  },
  {
   "cell_type": "code",
   "execution_count": null,
   "metadata": {},
   "outputs": [],
   "source": [
    "def format_prompt(system_prompt, user_prompt):\n",
    "    return [\n",
    "        {\n",
    "            \"role\": \"system\", \n",
    "            \"content\": system_prompt\n",
    "        },\n",
    "        {\n",
    "            \"role\": \"user\",\n",
    "            \"content\": user_prompt\n",
    "        }\n",
    "    ]\n",
    "\n",
    "messages_list = [format_prompt(prompt[0], prompt[1]) for prompt in prompts]\n",
    "messages_list"
   ]
  },
  {
   "cell_type": "code",
   "execution_count": 75,
   "metadata": {},
   "outputs": [],
   "source": [
    "import os\n",
    "from openai import OpenAI\n",
    "\n",
    "client = OpenAI(\n",
    "    api_key=os.environ.get(\"OPENAI_API_KEY\"),  # This is the default and can be omitted\n",
    ")"
   ]
  },
  {
   "cell_type": "code",
   "execution_count": 31,
   "metadata": {},
   "outputs": [],
   "source": [
    "model = 'gpt-4o-mini'\n",
    "temperature = 0.7\n",
    "max_tokens = 100\n",
    "top_p = 1.0\n",
    "n = 1 # number of completions to generate"
   ]
  },
  {
   "cell_type": "code",
   "execution_count": 91,
   "metadata": {},
   "outputs": [],
   "source": [
    "# GPT-4o-mini\n",
    "modified_queries = []\n",
    "\n",
    "for i in range(len(questions)):\n",
    "    chat_completion = client.chat.completions.create(\n",
    "        messages=messages_list[i],\n",
    "        model=model,\n",
    "        temperature=temperature,\n",
    "        max_tokens=max_tokens,\n",
    "        top_p=top_p,\n",
    "        n=n,\n",
    "    )\n",
    "    modified_queries.append(chat_completion.choices[0].message.content.replace('\\n', '~| ').replace('\\t', ' '))"
   ]
  },
  {
   "cell_type": "code",
   "execution_count": null,
   "metadata": {},
   "outputs": [],
   "source": [
    "from vllm import LLM, SamplingParams\n",
    "llm = LLM(model='meta-llama/Llama-3.1-8B-Instruct', download_dir='/data/user_data/tianyuca/models')"
   ]
  },
  {
   "cell_type": "code",
   "execution_count": 64,
   "metadata": {},
   "outputs": [
    {
     "name": "stderr",
     "output_type": "stream",
     "text": [
      "Processed prompts: 100%|██████████| 10/10 [00:02<00:00,  3.99it/s, est. speed input: 506.99 toks/s, output: 124.85 toks/s]"
     ]
    },
    {
     "name": "stdout",
     "output_type": "stream",
     "text": [
      "[RequestOutput(request_id=111, prompt='<|begin_of_text|><|start_header_id|>system<|end_header_id|>\\n\\nCutting Knowledge Date: December 2023\\nToday Date: 26 Jul 2024\\n\\nYou are a query rewriting assistant tasked with transforming the given query into a polite version. Examples of techniques includes using courteous phrases, considerate text, respect and good manners, and friendly tone. Experiment with diverse vocabulary, sentence lengths, and formats (such as questions, statements, or even multi-sentence versions) to express politeness. The resulting query should remain respectful and true to the original meaning. Just do the query rewriting, DO NOT answer it.<|eot_id|><|start_header_id|>user<|end_header_id|>\\n\\nOriginal Query: Who was the director of The Boys?\\nPolite Query:<|eot_id|><|start_header_id|>assistant<|end_header_id|>\\n\\n', prompt_token_ids=[128000, 128000, 128006, 9125, 128007, 271, 38766, 1303, 33025, 2696, 25, 6790, 220, 2366, 18, 198, 15724, 2696, 25, 220, 1627, 10263, 220, 2366, 19, 271, 2675, 527, 264, 3319, 95545, 18328, 51920, 449, 46890, 279, 2728, 3319, 1139, 264, 48887, 2373, 13, 26379, 315, 12823, 5764, 1701, 89288, 32847, 11, 2980, 349, 1495, 11, 5201, 323, 1695, 70570, 11, 323, 11919, 16630, 13, 47893, 449, 17226, 36018, 11, 11914, 29416, 11, 323, 20447, 320, 21470, 439, 4860, 11, 12518, 11, 477, 1524, 7447, 1355, 18886, 11028, 8, 311, 3237, 3435, 24639, 13, 578, 13239, 3319, 1288, 7293, 49150, 323, 837, 311, 279, 4113, 7438, 13, 4702, 656, 279, 3319, 95545, 11, 9503, 4276, 4320, 433, 13, 128009, 128006, 882, 128007, 271, 18902, 11615, 25, 10699, 574, 279, 7690, 315, 578, 30857, 5380, 15000, 635, 11615, 25, 128009, 128006, 78191, 128007, 271], encoder_prompt=None, encoder_prompt_token_ids=None, prompt_logprobs=None, outputs=[CompletionOutput(index=0, text='Could you please tell me who the director of the popular TV series The Boys was?', token_ids=(13191, 499, 4587, 3371, 757, 889, 279, 7690, 315, 279, 5526, 6007, 4101, 578, 30857, 574, 30, 128009), cumulative_logprob=None, logprobs=None, finish_reason=stop, stop_reason=None)], finished=True, metrics=RequestMetrics(arrival_time=1738473824.6869495, last_token_time=1738473824.6869495, first_scheduled_time=1738473824.6962378, first_token_time=1738473824.8218281, time_in_queue=0.009288311004638672, finished_time=1738473825.3224058, scheduler_time=0.007621346041560173, model_forward_time=None, model_execute_time=None), lora_request=None, num_cached_tokens=0), RequestOutput(request_id=112, prompt='<|begin_of_text|><|start_header_id|>system<|end_header_id|>\\n\\nCutting Knowledge Date: December 2023\\nToday Date: 26 Jul 2024\\n\\nYou are a skilled query rewriter. Transform the provided query into a polite variant. Experiment with diverse linguistic techniques—use courteous phrases, indirect requests, varied greetings, and subtle expressions of gratitude. The result should be both respectful and maintaining the original intent of the query. Just do the query rewriting, DO NOT answer it.<|eot_id|><|start_header_id|>user<|end_header_id|>\\n\\nOriginal Query: Who was the director of Mother and Child?\\nPolite Query:<|eot_id|><|start_header_id|>assistant<|end_header_id|>\\n\\n', prompt_token_ids=[128000, 128000, 128006, 9125, 128007, 271, 38766, 1303, 33025, 2696, 25, 6790, 220, 2366, 18, 198, 15724, 2696, 25, 220, 1627, 10263, 220, 2366, 19, 271, 2675, 527, 264, 26611, 3319, 312, 18688, 13, 15583, 279, 3984, 3319, 1139, 264, 48887, 11678, 13, 47893, 449, 17226, 65767, 12823, 2345, 817, 89288, 32847, 11, 25636, 7540, 11, 28830, 95185, 11, 323, 27545, 24282, 315, 46135, 13, 578, 1121, 1288, 387, 2225, 49150, 323, 20958, 279, 4113, 7537, 315, 279, 3319, 13, 4702, 656, 279, 3319, 95545, 11, 9503, 4276, 4320, 433, 13, 128009, 128006, 882, 128007, 271, 18902, 11615, 25, 10699, 574, 279, 7690, 315, 21720, 323, 9576, 5380, 15000, 635, 11615, 25, 128009, 128006, 78191, 128007, 271], encoder_prompt=None, encoder_prompt_token_ids=None, prompt_logprobs=None, outputs=[CompletionOutput(index=0, text='I was wondering if you could tell me who the director of the film \"Mother and Child\" is.', token_ids=(40, 574, 20910, 422, 499, 1436, 3371, 757, 889, 279, 7690, 315, 279, 4632, 330, 59978, 323, 9576, 1, 374, 13, 128009), cumulative_logprob=None, logprobs=None, finish_reason=stop, stop_reason=None)], finished=True, metrics=RequestMetrics(arrival_time=1738473824.6890109, last_token_time=1738473824.6890109, first_scheduled_time=1738473824.6962378, first_token_time=1738473824.8218281, time_in_queue=0.0072269439697265625, finished_time=1738473825.4186895, scheduler_time=0.008356894948519766, model_forward_time=None, model_execute_time=None), lora_request=None, num_cached_tokens=0), RequestOutput(request_id=113, prompt='<|begin_of_text|><|start_header_id|>system<|end_header_id|>\\n\\nCutting Knowledge Date: December 2023\\nToday Date: 26 Jul 2024\\n\\nYou are a skilled query rewriter. Transform the provided query into a polite variant. Experiment with diverse linguistic techniques—use courteous phrases, indirect requests, varied greetings, and subtle expressions of gratitude. The result should be both respectful and maintaining the original intent of the query. Just do the query rewriting, DO NOT answer it.<|eot_id|><|start_header_id|>user<|end_header_id|>\\n\\nOriginal Query: Who is the author of Branches?\\nPolite Query:<|eot_id|><|start_header_id|>assistant<|end_header_id|>\\n\\n', prompt_token_ids=[128000, 128000, 128006, 9125, 128007, 271, 38766, 1303, 33025, 2696, 25, 6790, 220, 2366, 18, 198, 15724, 2696, 25, 220, 1627, 10263, 220, 2366, 19, 271, 2675, 527, 264, 26611, 3319, 312, 18688, 13, 15583, 279, 3984, 3319, 1139, 264, 48887, 11678, 13, 47893, 449, 17226, 65767, 12823, 2345, 817, 89288, 32847, 11, 25636, 7540, 11, 28830, 95185, 11, 323, 27545, 24282, 315, 46135, 13, 578, 1121, 1288, 387, 2225, 49150, 323, 20958, 279, 4113, 7537, 315, 279, 3319, 13, 4702, 656, 279, 3319, 95545, 11, 9503, 4276, 4320, 433, 13, 128009, 128006, 882, 128007, 271, 18902, 11615, 25, 10699, 374, 279, 3229, 315, 26176, 288, 5380, 15000, 635, 11615, 25, 128009, 128006, 78191, 128007, 271], encoder_prompt=None, encoder_prompt_token_ids=None, prompt_logprobs=None, outputs=[CompletionOutput(index=0, text='I was wondering if you could tell me who the author of the book \"Branches\" is.', token_ids=(40, 574, 20910, 422, 499, 1436, 3371, 757, 889, 279, 3229, 315, 279, 2363, 330, 18697, 288, 1, 374, 13, 128009), cumulative_logprob=None, logprobs=None, finish_reason=stop, stop_reason=None)], finished=True, metrics=RequestMetrics(arrival_time=1738473824.689724, last_token_time=1738473824.689724, first_scheduled_time=1738473824.6962378, first_token_time=1738473824.8218281, time_in_queue=0.006513833999633789, finished_time=1738473825.3941386, scheduler_time=0.008191227912902832, model_forward_time=None, model_execute_time=None), lora_request=None, num_cached_tokens=0), RequestOutput(request_id=114, prompt='<|begin_of_text|><|start_header_id|>system<|end_header_id|>\\n\\nCutting Knowledge Date: December 2023\\nToday Date: 26 Jul 2024\\n\\nYou are a query rewriting assistant tasked with transforming the given query into a polite version. Examples of techniques includes using courteous phrases, considerate text, respect and good manners, and friendly tone. Experiment with diverse vocabulary, sentence lengths, and formats (such as questions, statements, or even multi-sentence versions) to express politeness. The resulting query should remain respectful and true to the original meaning. Just do the query rewriting, DO NOT answer it.<|eot_id|><|start_header_id|>user<|end_header_id|>\\n\\nOriginal Query: Who was the composer of Trans?\\nPolite Query:<|eot_id|><|start_header_id|>assistant<|end_header_id|>\\n\\n', prompt_token_ids=[128000, 128000, 128006, 9125, 128007, 271, 38766, 1303, 33025, 2696, 25, 6790, 220, 2366, 18, 198, 15724, 2696, 25, 220, 1627, 10263, 220, 2366, 19, 271, 2675, 527, 264, 3319, 95545, 18328, 51920, 449, 46890, 279, 2728, 3319, 1139, 264, 48887, 2373, 13, 26379, 315, 12823, 5764, 1701, 89288, 32847, 11, 2980, 349, 1495, 11, 5201, 323, 1695, 70570, 11, 323, 11919, 16630, 13, 47893, 449, 17226, 36018, 11, 11914, 29416, 11, 323, 20447, 320, 21470, 439, 4860, 11, 12518, 11, 477, 1524, 7447, 1355, 18886, 11028, 8, 311, 3237, 3435, 24639, 13, 578, 13239, 3319, 1288, 7293, 49150, 323, 837, 311, 279, 4113, 7438, 13, 4702, 656, 279, 3319, 95545, 11, 9503, 4276, 4320, 433, 13, 128009, 128006, 882, 128007, 271, 18902, 11615, 25, 10699, 574, 279, 40550, 315, 4149, 5380, 15000, 635, 11615, 25, 128009, 128006, 78191, 128007, 271], encoder_prompt=None, encoder_prompt_token_ids=None, prompt_logprobs=None, outputs=[CompletionOutput(index=0, text='Could you please tell me who the composer behind the music of Trans is?', token_ids=(13191, 499, 4587, 3371, 757, 889, 279, 40550, 4920, 279, 4731, 315, 4149, 374, 30, 128009), cumulative_logprob=None, logprobs=None, finish_reason=stop, stop_reason=None)], finished=True, metrics=RequestMetrics(arrival_time=1738473824.69025, last_token_time=1738473824.69025, first_scheduled_time=1738473824.6962378, first_token_time=1738473824.9028473, time_in_queue=0.005987882614135742, finished_time=1738473825.2971387, scheduler_time=0.007374728098511696, model_forward_time=None, model_execute_time=None), lora_request=None, num_cached_tokens=0), RequestOutput(request_id=115, prompt='<|begin_of_text|><|start_header_id|>system<|end_header_id|>\\n\\nCutting Knowledge Date: December 2023\\nToday Date: 26 Jul 2024\\n\\nYou are tasked with rewriting the following query into a polite version. Examples of techniques includes using courteous phrases, considerate text, respect and good manners, and friendly tone. Vary your approach by using different sentence constructions, varying the placement of polite expressions. The result should be both respectful and maintaining the original intent of the query. Just do the query rewriting, DO NOT answer it.<|eot_id|><|start_header_id|>user<|end_header_id|>\\n\\nOriginal Query: Who was the director of The Chicken?\\nPolite Query:<|eot_id|><|start_header_id|>assistant<|end_header_id|>\\n\\n', prompt_token_ids=[128000, 128000, 128006, 9125, 128007, 271, 38766, 1303, 33025, 2696, 25, 6790, 220, 2366, 18, 198, 15724, 2696, 25, 220, 1627, 10263, 220, 2366, 19, 271, 2675, 527, 51920, 449, 95545, 279, 2768, 3319, 1139, 264, 48887, 2373, 13, 26379, 315, 12823, 5764, 1701, 89288, 32847, 11, 2980, 349, 1495, 11, 5201, 323, 1695, 70570, 11, 323, 11919, 16630, 13, 650, 661, 701, 5603, 555, 1701, 2204, 11914, 96939, 11, 29865, 279, 22165, 315, 48887, 24282, 13, 578, 1121, 1288, 387, 2225, 49150, 323, 20958, 279, 4113, 7537, 315, 279, 3319, 13, 4702, 656, 279, 3319, 95545, 11, 9503, 4276, 4320, 433, 13, 128009, 128006, 882, 128007, 271, 18902, 11615, 25, 10699, 574, 279, 7690, 315, 578, 34619, 5380, 15000, 635, 11615, 25, 128009, 128006, 78191, 128007, 271], encoder_prompt=None, encoder_prompt_token_ids=None, prompt_logprobs=None, outputs=[CompletionOutput(index=0, text='Could you please tell me who directed the film \"The Chicken\"? \\nOr \\nI was wondering if you could provide information on the director of the movie \"The Chicken\"? \\nOr \\nWould you know who directed the film \"The Chicken\"? \\nOr \\nCould you share the name of the director for the movie \"The Chicken\"? \\nOr \\nI\\'d love to learn more about the director behind the film \"The Chicken\", could you kindly let me know who it was?', token_ids=(13191, 499, 4587, 3371, 757, 889, 15910, 279, 4632, 330, 791, 34619, 44969, 720, 2244, 720, 40, 574, 20910, 422, 499, 1436, 3493, 2038, 389, 279, 7690, 315, 279, 5818, 330, 791, 34619, 44969, 720, 2244, 720, 29089, 499, 1440, 889, 15910, 279, 4632, 330, 791, 34619, 44969, 720, 2244, 720, 13191, 499, 4430, 279, 836, 315, 279, 7690, 369, 279, 5818, 330, 791, 34619, 44969, 720, 2244, 720, 40, 4265, 3021, 311, 4048, 810, 922, 279, 7690, 4920, 279, 4632, 330, 791, 34619, 498, 1436, 499, 47626, 1095, 757, 1440, 889, 433, 574, 30, 128009), cumulative_logprob=None, logprobs=None, finish_reason=stop, stop_reason=None)], finished=True, metrics=RequestMetrics(arrival_time=1738473824.690815, last_token_time=1738473824.690815, first_scheduled_time=1738473824.7952812, first_token_time=1738473824.9028473, time_in_queue=0.10446619987487793, finished_time=1738473827.1803517, scheduler_time=0.016337135224603117, model_forward_time=None, model_execute_time=None), lora_request=None, num_cached_tokens=0), RequestOutput(request_id=116, prompt='<|begin_of_text|><|start_header_id|>system<|end_header_id|>\\n\\nCutting Knowledge Date: December 2023\\nToday Date: 26 Jul 2024\\n\\nAs an AI with advanced linguistic capabilities, rewrite the following query to be more polite. Make sure to integrate natural expressions of courtesy, such as gentle requests or softeners, that make the query sound more respectful and friendly. Avoid using the same phrases repeatedly by varying your sentence structures and word choices. Just do the query rewriting, DO NOT answer it.<|eot_id|><|start_header_id|>user<|end_header_id|>\\n\\nOriginal Query: What is the religion of Bernard William Schmitt?\\nPolite Query:<|eot_id|><|start_header_id|>assistant<|end_header_id|>\\n\\n', prompt_token_ids=[128000, 128000, 128006, 9125, 128007, 271, 38766, 1303, 33025, 2696, 25, 6790, 220, 2366, 18, 198, 15724, 2696, 25, 220, 1627, 10263, 220, 2366, 19, 271, 2170, 459, 15592, 449, 11084, 65767, 17357, 11, 18622, 279, 2768, 3319, 311, 387, 810, 48887, 13, 7557, 2771, 311, 32172, 5933, 24282, 315, 27104, 11, 1778, 439, 22443, 7540, 477, 8579, 18724, 11, 430, 1304, 279, 3319, 5222, 810, 49150, 323, 11919, 13, 35106, 1701, 279, 1890, 32847, 19352, 555, 29865, 701, 11914, 14726, 323, 3492, 11709, 13, 4702, 656, 279, 3319, 95545, 11, 9503, 4276, 4320, 433, 13, 128009, 128006, 882, 128007, 271, 18902, 11615, 25, 3639, 374, 279, 13901, 315, 35352, 12656, 5124, 24621, 5380, 15000, 635, 11615, 25, 128009, 128006, 78191, 128007, 271], encoder_prompt=None, encoder_prompt_token_ids=None, prompt_logprobs=None, outputs=[CompletionOutput(index=0, text=\"Could you kindly tell me more about Bernard William Schmitt's religious affiliation?\", token_ids=(13191, 499, 47626, 3371, 757, 810, 922, 35352, 12656, 5124, 24621, 596, 10597, 53891, 30, 128009), cumulative_logprob=None, logprobs=None, finish_reason=stop, stop_reason=None)], finished=True, metrics=RequestMetrics(arrival_time=1738473824.6913698, last_token_time=1738473824.6913698, first_scheduled_time=1738473824.7952812, first_token_time=1738473824.9028473, time_in_queue=0.1039113998413086, finished_time=1738473825.2971568, scheduler_time=0.006531424121931195, model_forward_time=None, model_execute_time=None), lora_request=None, num_cached_tokens=0), RequestOutput(request_id=117, prompt='<|begin_of_text|><|start_header_id|>system<|end_header_id|>\\n\\nCutting Knowledge Date: December 2023\\nToday Date: 26 Jul 2024\\n\\nAs an AI with advanced linguistic capabilities, rewrite the following query to be more polite. Make sure to integrate natural expressions of courtesy, such as gentle requests or softeners, that make the query sound more respectful and friendly. Avoid using the same phrases repeatedly by varying your sentence structures and word choices. Just do the query rewriting, DO NOT answer it.<|eot_id|><|start_header_id|>user<|end_header_id|>\\n\\nOriginal Query: In what country is Springwood High School?\\nPolite Query:<|eot_id|><|start_header_id|>assistant<|end_header_id|>\\n\\n', prompt_token_ids=[128000, 128000, 128006, 9125, 128007, 271, 38766, 1303, 33025, 2696, 25, 6790, 220, 2366, 18, 198, 15724, 2696, 25, 220, 1627, 10263, 220, 2366, 19, 271, 2170, 459, 15592, 449, 11084, 65767, 17357, 11, 18622, 279, 2768, 3319, 311, 387, 810, 48887, 13, 7557, 2771, 311, 32172, 5933, 24282, 315, 27104, 11, 1778, 439, 22443, 7540, 477, 8579, 18724, 11, 430, 1304, 279, 3319, 5222, 810, 49150, 323, 11919, 13, 35106, 1701, 279, 1890, 32847, 19352, 555, 29865, 701, 11914, 14726, 323, 3492, 11709, 13, 4702, 656, 279, 3319, 95545, 11, 9503, 4276, 4320, 433, 13, 128009, 128006, 882, 128007, 271, 18902, 11615, 25, 763, 1148, 3224, 374, 12531, 6798, 5234, 6150, 5380, 15000, 635, 11615, 25, 128009, 128006, 78191, 128007, 271], encoder_prompt=None, encoder_prompt_token_ids=None, prompt_logprobs=None, outputs=[CompletionOutput(index=0, text='Could you please tell me which country Springwood High School is located in? \\n\\nAlternatively:\\n\\nI was wondering if you could let me know the country in which Springwood High School is situated.\\n\\nOr:\\n\\nIf I may ask, could you provide information on the country where Springwood High School is located?\\n\\nOr:\\n\\nWould you mind sharing with me the country associated with Springwood High School?', token_ids=(13191, 499, 4587, 3371, 757, 902, 3224, 12531, 6798, 5234, 6150, 374, 7559, 304, 30, 4815, 93114, 1473, 40, 574, 20910, 422, 499, 1436, 1095, 757, 1440, 279, 3224, 304, 902, 12531, 6798, 5234, 6150, 374, 31183, 382, 2244, 1473, 2746, 358, 1253, 2610, 11, 1436, 499, 3493, 2038, 389, 279, 3224, 1405, 12531, 6798, 5234, 6150, 374, 7559, 1980, 2244, 1473, 29089, 499, 4059, 11821, 449, 757, 279, 3224, 5938, 449, 12531, 6798, 5234, 6150, 30, 128009), cumulative_logprob=None, logprobs=None, finish_reason=stop, stop_reason=None)], finished=True, metrics=RequestMetrics(arrival_time=1738473824.6919374, last_token_time=1738473824.6919374, first_scheduled_time=1738473824.7952812, first_token_time=1738473824.9028473, time_in_queue=0.10334372520446777, finished_time=1738473826.7626598, scheduler_time=0.0147126370575279, model_forward_time=None, model_execute_time=None), lora_request=None, num_cached_tokens=0), RequestOutput(request_id=118, prompt='<|begin_of_text|><|start_header_id|>system<|end_header_id|>\\n\\nCutting Knowledge Date: December 2023\\nToday Date: 26 Jul 2024\\n\\nAs an AI with advanced linguistic capabilities, rewrite the following query to be more polite. Make sure to integrate natural expressions of courtesy, such as gentle requests or softeners, that make the query sound more respectful and friendly. Avoid using the same phrases repeatedly by varying your sentence structures and word choices. Just do the query rewriting, DO NOT answer it.<|eot_id|><|start_header_id|>user<|end_header_id|>\\n\\nOriginal Query: What genre is Operation Sabotage?\\nPolite Query:<|eot_id|><|start_header_id|>assistant<|end_header_id|>\\n\\n', prompt_token_ids=[128000, 128000, 128006, 9125, 128007, 271, 38766, 1303, 33025, 2696, 25, 6790, 220, 2366, 18, 198, 15724, 2696, 25, 220, 1627, 10263, 220, 2366, 19, 271, 2170, 459, 15592, 449, 11084, 65767, 17357, 11, 18622, 279, 2768, 3319, 311, 387, 810, 48887, 13, 7557, 2771, 311, 32172, 5933, 24282, 315, 27104, 11, 1778, 439, 22443, 7540, 477, 8579, 18724, 11, 430, 1304, 279, 3319, 5222, 810, 49150, 323, 11919, 13, 35106, 1701, 279, 1890, 32847, 19352, 555, 29865, 701, 11914, 14726, 323, 3492, 11709, 13, 4702, 656, 279, 3319, 95545, 11, 9503, 4276, 4320, 433, 13, 128009, 128006, 882, 128007, 271, 18902, 11615, 25, 3639, 17779, 374, 17145, 21252, 354, 425, 5380, 15000, 635, 11615, 25, 128009, 128006, 78191, 128007, 271], encoder_prompt=None, encoder_prompt_token_ids=None, prompt_logprobs=None, outputs=[CompletionOutput(index=0, text='Could you please tell me what genre Operation Sabotage falls under?', token_ids=(13191, 499, 4587, 3371, 757, 1148, 17779, 17145, 21252, 354, 425, 17503, 1234, 30, 128009), cumulative_logprob=None, logprobs=None, finish_reason=stop, stop_reason=None)], finished=True, metrics=RequestMetrics(arrival_time=1738473824.69253, last_token_time=1738473824.69253, first_scheduled_time=1738473824.7952812, first_token_time=1738473824.9028473, time_in_queue=0.10275125503540039, finished_time=1738473825.2705765, scheduler_time=0.006198168150149286, model_forward_time=None, model_execute_time=None), lora_request=None, num_cached_tokens=0), RequestOutput(request_id=119, prompt=\"<|begin_of_text|><|start_header_id|>system<|end_header_id|>\\n\\nCutting Knowledge Date: December 2023\\nToday Date: 26 Jul 2024\\n\\nYou are a query rewriting assistant tasked with transforming the given query into a polite version. Examples of techniques includes using courteous phrases, considerate text, respect and good manners, and friendly tone. Experiment with diverse vocabulary, sentence lengths, and formats (such as questions, statements, or even multi-sentence versions) to express politeness. The resulting query should remain respectful and true to the original meaning. Just do the query rewriting, DO NOT answer it.<|eot_id|><|start_header_id|>user<|end_header_id|>\\n\\nOriginal Query: What is Henk Bleker's occupation?\\nPolite Query:<|eot_id|><|start_header_id|>assistant<|end_header_id|>\\n\\n\", prompt_token_ids=[128000, 128000, 128006, 9125, 128007, 271, 38766, 1303, 33025, 2696, 25, 6790, 220, 2366, 18, 198, 15724, 2696, 25, 220, 1627, 10263, 220, 2366, 19, 271, 2675, 527, 264, 3319, 95545, 18328, 51920, 449, 46890, 279, 2728, 3319, 1139, 264, 48887, 2373, 13, 26379, 315, 12823, 5764, 1701, 89288, 32847, 11, 2980, 349, 1495, 11, 5201, 323, 1695, 70570, 11, 323, 11919, 16630, 13, 47893, 449, 17226, 36018, 11, 11914, 29416, 11, 323, 20447, 320, 21470, 439, 4860, 11, 12518, 11, 477, 1524, 7447, 1355, 18886, 11028, 8, 311, 3237, 3435, 24639, 13, 578, 13239, 3319, 1288, 7293, 49150, 323, 837, 311, 279, 4113, 7438, 13, 4702, 656, 279, 3319, 95545, 11, 9503, 4276, 4320, 433, 13, 128009, 128006, 882, 128007, 271, 18902, 11615, 25, 3639, 374, 13370, 74, 39285, 7197, 596, 30747, 5380, 15000, 635, 11615, 25, 128009, 128006, 78191, 128007, 271], encoder_prompt=None, encoder_prompt_token_ids=None, prompt_logprobs=None, outputs=[CompletionOutput(index=0, text=\"Could you please tell me more about Henk Bleker's profession?\", token_ids=(13191, 499, 4587, 3371, 757, 810, 922, 13370, 74, 39285, 7197, 596, 4913, 30, 128009), cumulative_logprob=None, logprobs=None, finish_reason=stop, stop_reason=None)], finished=True, metrics=RequestMetrics(arrival_time=1738473824.693044, last_token_time=1738473824.693044, first_scheduled_time=1738473824.7952812, first_token_time=1738473824.9394596, time_in_queue=0.10223722457885742, finished_time=1738473825.297168, scheduler_time=0.006531424121931195, model_forward_time=None, model_execute_time=None), lora_request=None, num_cached_tokens=0), RequestOutput(request_id=120, prompt=\"<|begin_of_text|><|start_header_id|>system<|end_header_id|>\\n\\nCutting Knowledge Date: December 2023\\nToday Date: 26 Jul 2024\\n\\nYou are a skilled query rewriter. Transform the provided query into a polite variant. Experiment with diverse linguistic techniques—use courteous phrases, indirect requests, varied greetings, and subtle expressions of gratitude. The result should be both respectful and maintaining the original intent of the query. Just do the query rewriting, DO NOT answer it.<|eot_id|><|start_header_id|>user<|end_header_id|>\\n\\nOriginal Query: What is Andreas Rüdiger's occupation?\\nPolite Query:<|eot_id|><|start_header_id|>assistant<|end_header_id|>\\n\\n\", prompt_token_ids=[128000, 128000, 128006, 9125, 128007, 271, 38766, 1303, 33025, 2696, 25, 6790, 220, 2366, 18, 198, 15724, 2696, 25, 220, 1627, 10263, 220, 2366, 19, 271, 2675, 527, 264, 26611, 3319, 312, 18688, 13, 15583, 279, 3984, 3319, 1139, 264, 48887, 11678, 13, 47893, 449, 17226, 65767, 12823, 2345, 817, 89288, 32847, 11, 25636, 7540, 11, 28830, 95185, 11, 323, 27545, 24282, 315, 46135, 13, 578, 1121, 1288, 387, 2225, 49150, 323, 20958, 279, 4113, 7537, 315, 279, 3319, 13, 4702, 656, 279, 3319, 95545, 11, 9503, 4276, 4320, 433, 13, 128009, 128006, 882, 128007, 271, 18902, 11615, 25, 3639, 374, 51162, 432, 2448, 67, 7420, 596, 30747, 5380, 15000, 635, 11615, 25, 128009, 128006, 78191, 128007, 271], encoder_prompt=None, encoder_prompt_token_ids=None, prompt_logprobs=None, outputs=[CompletionOutput(index=0, text=\"Could you kindly tell me what Andreas Rüdiger's profession is?\", token_ids=(13191, 499, 47626, 3371, 757, 1148, 51162, 432, 2448, 67, 7420, 596, 4913, 374, 30, 128009), cumulative_logprob=None, logprobs=None, finish_reason=stop, stop_reason=None)], finished=True, metrics=RequestMetrics(arrival_time=1738473824.6936405, last_token_time=1738473824.6936405, first_scheduled_time=1738473824.8764668, first_token_time=1738473824.9394596, time_in_queue=0.18282628059387207, finished_time=1738473825.3224201, scheduler_time=0.006145286140963435, model_forward_time=None, model_execute_time=None), lora_request=None, num_cached_tokens=0)]\n"
     ]
    },
    {
     "name": "stderr",
     "output_type": "stream",
     "text": [
      "\n"
     ]
    }
   ],
   "source": [
    "sampling_params = SamplingParams(\n",
    "    temperature=temperature,\n",
    "    top_p=top_p,\n",
    "    max_tokens=max_tokens,\n",
    ")\n",
    "# completion = llm.generate(prompts, sampling_params)\n",
    "completion = llm.chat(messages_list, sampling_params)\n",
    "print(completion)\n",
    "modified_queries = [output.outputs[0].text.split('\\n')[0] for output in completion]"
   ]
  },
  {
   "cell_type": "code",
   "execution_count": 65,
   "metadata": {},
   "outputs": [
    {
     "data": {
      "text/plain": [
       "['Could you please tell me who the director of the popular TV series The Boys was?',\n",
       " 'I was wondering if you could tell me who the director of the film \"Mother and Child\" is.',\n",
       " 'I was wondering if you could tell me who the author of the book \"Branches\" is.',\n",
       " 'Could you please tell me who the composer behind the music of Trans is?',\n",
       " 'Could you please tell me who directed the film \"The Chicken\"? ',\n",
       " \"Could you kindly tell me more about Bernard William Schmitt's religious affiliation?\",\n",
       " 'Could you please tell me which country Springwood High School is located in? ',\n",
       " 'Could you please tell me what genre Operation Sabotage falls under?',\n",
       " \"Could you please tell me more about Henk Bleker's profession?\",\n",
       " \"Could you kindly tell me what Andreas Rüdiger's profession is?\"]"
      ]
     },
     "execution_count": 65,
     "metadata": {},
     "output_type": "execute_result"
    }
   ],
   "source": [
    "modified_queries"
   ]
  },
  {
   "cell_type": "code",
   "execution_count": 59,
   "metadata": {},
   "outputs": [
    {
     "name": "stdout",
     "output_type": "stream",
     "text": [
      "[0.9921875, 0.99609375, 0.99609375, 0.99609375, 0.96875, 0.99609375, 0.99609375, 0.99609375, 0.99609375, 0.99609375]\n"
     ]
    },
    {
     "data": {
      "text/plain": [
       "0.99296875"
      ]
     },
     "execution_count": 59,
     "metadata": {},
     "output_type": "execute_result"
    }
   ],
   "source": [
    "from transformers import AutoTokenizer, AutoModelForSequenceClassification\n",
    "from query_rewriting import flesch_reading_ease, predict_formality\n",
    "\n",
    "model_name = \"s-nlp/roberta-base-formality-ranker\"\n",
    "tokenizer = AutoTokenizer.from_pretrained(model_name)\n",
    "model = AutoModelForSequenceClassification.from_pretrained(model_name)\n",
    "\n",
    "modified_scores = [predict_formality(tokenizer, model, query) for query in modified_queries]\n",
    "# modified_scores = [flesch_reading_ease(query) for query in modified_queries]\n",
    "print(modified_scores)\n",
    "# avg_original_score = sum(original_scores) / len(original_scores)\n",
    "avg_modified_score = sum(modified_scores) / len(modified_scores)\n",
    "avg_modified_score"
   ]
  },
  {
   "cell_type": "code",
   "execution_count": 66,
   "metadata": {},
   "outputs": [
    {
     "name": "stderr",
     "output_type": "stream",
     "text": [
      "Device set to use cuda:0\n"
     ]
    },
    {
     "name": "stdout",
     "output_type": "stream",
     "text": [
      "--------------------------------------\n",
      "Could you please tell me who the director of the popular TV series The Boys was? 0.7976957559585571\n",
      "I was wondering if you could tell me who the director of the film \"Mother and Child\" is. 0.8014834821224213\n",
      "I was wondering if you could tell me who the author of the book \"Branches\" is. 0.795767530798912\n",
      "Could you please tell me who the composer behind the music of Trans is? 0.4727376848459244\n",
      "Could you please tell me who directed the film \"The Chicken\"?  0.4700736105442047\n",
      "Could you kindly tell me more about Bernard William Schmitt's religious affiliation? 0.4825034886598587\n",
      "Could you please tell me which country Springwood High School is located in?  0.42887407541275024\n",
      "Could you please tell me what genre Operation Sabotage falls under? 0.6220478266477585\n",
      "Could you please tell me more about Henk Bleker's profession? 0.6570035070180893\n",
      "Could you kindly tell me what Andreas Rüdiger's profession is? 0.8874029219150543\n"
     ]
    },
    {
     "data": {
      "text/plain": [
       "(0.2142079645418562, 0.641558988392353)"
      ]
     },
     "execution_count": 66,
     "metadata": {},
     "output_type": "execute_result"
    }
   ],
   "source": [
    "from transformers import pipeline\n",
    "\n",
    "classifier = pipeline(\n",
    "    'text-classification',\n",
    "    model='Intel/polite-guard'\n",
    ")\n",
    "\n",
    "def politeness_score(classifier: pipeline, query):\n",
    "    # return the sum of the scores for 'polite' and 'somewhat polite'\n",
    "    result = classifier(query, return_all_scores=True)\n",
    "    return result[0][0]['score'] + result[0][1]['score']\n",
    "\n",
    "original_scores = []\n",
    "for query in questions:\n",
    "    original_scores.append(politeness_score(classifier, query))\n",
    "\n",
    "print('--------------------------------------')\n",
    "modified_scores = []\n",
    "for query in modified_queries:\n",
    "    print(query, politeness_score(classifier, query))\n",
    "    modified_scores.append(politeness_score(classifier, query))\n",
    "\n",
    "avg_original_score = sum(original_scores) / len(original_scores)\n",
    "avg_modified_score = sum(modified_scores) / len(modified_scores)\n",
    "avg_original_score, avg_modified_score"
   ]
  },
  {
   "cell_type": "code",
   "execution_count": null,
   "metadata": {},
   "outputs": [],
   "source": []
  }
 ],
 "metadata": {
  "kernelspec": {
   "display_name": "vllm",
   "language": "python",
   "name": "python3"
  },
  "language_info": {
   "codemirror_mode": {
    "name": "ipython",
    "version": 3
   },
   "file_extension": ".py",
   "mimetype": "text/x-python",
   "name": "python",
   "nbconvert_exporter": "python",
   "pygments_lexer": "ipython3",
   "version": "3.10.15"
  }
 },
 "nbformat": 4,
 "nbformat_minor": 2
}
