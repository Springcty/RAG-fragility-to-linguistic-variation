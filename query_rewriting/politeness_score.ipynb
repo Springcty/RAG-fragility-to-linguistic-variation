{
 "cells": [
  {
   "cell_type": "code",
   "execution_count": 9,
   "metadata": {},
   "outputs": [],
   "source": [
    "from transformers import pipeline"
   ]
  },
  {
   "cell_type": "code",
   "execution_count": null,
   "metadata": {},
   "outputs": [],
   "source": [
    "classifier = pipeline(\n",
    "    'text-classification',\n",
    "    model='Intel/polite-guard'\n",
    ")"
   ]
  },
  {
   "cell_type": "code",
   "execution_count": null,
   "metadata": {},
   "outputs": [],
   "source": [
    "def politeness_score(classifier: pipeline, query):\n",
    "    # return the sum of the scores for 'polite' and 'somewhat polite'\n",
    "    result = classifier(query, return_all_scores=True)\n",
    "    return result[0][0]['score'] + result[0][1]['score']"
   ]
  },
  {
   "cell_type": "code",
   "execution_count": null,
   "metadata": {},
   "outputs": [],
   "source": [
    "sentence = ['Could you please provide information about the director behind the popular series \"The Boys\", as I\\'d love to learn more about their creative vision?',\n",
    " 'Could you please tell me who directed the film \"Mother and Child\"?',\n",
    " 'Could you please tell me who the author of the novel \"Branches\" is?',\n",
    " \"Could you please tell me who the composer behind the piece known as 'Trans' is?\",\n",
    " 'I was wondering if you could provide information on the director of the film \"The Chicken\".',\n",
    " 'Could you provide information about the religious affiliation of Bernard William Schmitt?',\n",
    " 'Could you please tell me which country Springwood High School is located in?',\n",
    " 'Could you please specify the title you are referring to with \"Operation Sabotage\" so I can accurately determine its genre?',\n",
    " \"Could you please tell me more about Henk Bleker's profession?\",\n",
    " 'Could you please provide information regarding the profession of Andreas Rüdiger?',\n",
    " 'Could you please share what occupation Andreas Rüdiger holds?'\n",
    "]\n"
   ]
  },
  {
   "cell_type": "code",
   "execution_count": null,
   "metadata": {},
   "outputs": [],
   "source": [
    "politeness_scores = []\n",
    "for s in sentence:\n",
    "    # generate the politeness metric score based on the sum of polite and impolite scores\n",
    "    politeness_score = politeness_score(classifier, s)\n",
    "    politeness_scores.append(politeness_score)\n",
    "\n",
    "print(politeness_scores)"
   ]
  },
  {
   "cell_type": "code",
   "execution_count": null,
   "metadata": {},
   "outputs": [],
   "source": []
  }
 ],
 "metadata": {
  "kernelspec": {
   "display_name": "vllm",
   "language": "python",
   "name": "python3"
  },
  "language_info": {
   "codemirror_mode": {
    "name": "ipython",
    "version": 3
   },
   "file_extension": ".py",
   "mimetype": "text/x-python",
   "name": "python",
   "nbconvert_exporter": "python",
   "pygments_lexer": "ipython3",
   "version": "3.10.15"
  }
 },
 "nbformat": 4,
 "nbformat_minor": 2
}
